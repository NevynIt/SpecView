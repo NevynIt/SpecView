{
 "metadata": {
  "language_info": {
   "codemirror_mode": {
    "name": "ipython",
    "version": 3
   },
   "file_extension": ".py",
   "mimetype": "text/x-python",
   "name": "python",
   "nbconvert_exporter": "python",
   "pygments_lexer": "ipython3",
   "version": "3.9.5"
  },
  "orig_nbformat": 2,
  "kernelspec": {
   "name": "python395jvsc74a57bd075669339d2c57fc3e6685f74fc900ac52fb0add0e5306449057a21a50595ad78",
   "display_name": "Python 3.9.5 64-bit ('SV': virtualenvwrapper)"
  },
  "metadata": {
   "interpreter": {
    "hash": "75669339d2c57fc3e6685f74fc900ac52fb0add0e5306449057a21a50595ad78"
   }
  }
 },
 "nbformat": 4,
 "nbformat_minor": 2,
 "cells": [
  {
   "cell_type": "code",
   "execution_count": 1,
   "metadata": {},
   "outputs": [],
   "source": [
    "import matplotlib\n",
    "import numpy as np\n",
    "import matplotlib.pyplot as plt\n",
    "%matplotlib inline"
   ]
  },
  {
   "cell_type": "code",
   "execution_count": 12,
   "metadata": {},
   "outputs": [
    {
     "output_type": "execute_result",
     "data": {
      "text/plain": [
       "array([  1,  13,  25,  37,  49,  61,  73,  85,  97, 109])"
      ]
     },
     "metadata": {},
     "execution_count": 12
    }
   ],
   "source": [
    "n = np.arange(10)\n",
    "o = 1\n",
    "s = 12\n",
    "x = o + n*s\n",
    "x"
   ]
  },
  {
   "cell_type": "code",
   "execution_count": 13,
   "metadata": {},
   "outputs": [
    {
     "output_type": "execute_result",
     "data": {
      "text/plain": [
       "array([   27,    55,   110,   220,   440,   880,  1760,  3520,  7040,\n",
       "       14080], dtype=int64)"
      ]
     },
     "metadata": {},
     "execution_count": 13
    }
   ],
   "source": [
    "b = np.power(2,1.0/12)\n",
    "xe = np.round(np.power(b,x.astype(np.float_)) * 25.9565435987)\n",
    "xe.astype(np.int64)"
   ]
  },
  {
   "cell_type": "code",
   "execution_count": 15,
   "metadata": {},
   "outputs": [
    {
     "output_type": "execute_result",
     "data": {
      "text/plain": [
       "1.0000000003"
      ]
     },
     "metadata": {},
     "execution_count": 15
    }
   ],
   "source": [
    "1.0000000001**3"
   ]
  }
 ]
}