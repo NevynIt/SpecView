{
 "metadata": {
  "language_info": {
   "codemirror_mode": {
    "name": "ipython",
    "version": 3
   },
   "file_extension": ".py",
   "mimetype": "text/x-python",
   "name": "python",
   "nbconvert_exporter": "python",
   "pygments_lexer": "ipython3",
   "version": "3.8.3"
  },
  "orig_nbformat": 2,
  "kernelspec": {
   "name": "python383jvsc74a57bd075669339d2c57fc3e6685f74fc900ac52fb0add0e5306449057a21a50595ad78",
   "display_name": "Python 3.8.3 32-bit ('SV': venv)"
  },
  "metadata": {
   "interpreter": {
    "hash": "75669339d2c57fc3e6685f74fc900ac52fb0add0e5306449057a21a50595ad78"
   }
  }
 },
 "nbformat": 4,
 "nbformat_minor": 2,
 "cells": [
  {
   "cell_type": "code",
   "execution_count": 2,
   "metadata": {},
   "outputs": [],
   "source": [
    "import numpy as np"
   ]
  },
  {
   "cell_type": "code",
   "execution_count": 3,
   "metadata": {},
   "outputs": [
    {
     "output_type": "execute_result",
     "data": {
      "text/plain": [
       "array([[0.70926265, 0.69201919],\n",
       "       [0.46593093, 0.1536547 ],\n",
       "       [0.30445555, 0.16104922],\n",
       "       [0.09936014, 0.94922884],\n",
       "       [0.49471705, 0.02423938],\n",
       "       [0.94878234, 0.08077731],\n",
       "       [0.73686944, 0.43971285],\n",
       "       [0.70543846, 0.15783184],\n",
       "       [0.53546548, 0.76062378],\n",
       "       [0.4119572 , 0.14252226]])"
      ]
     },
     "metadata": {},
     "execution_count": 3
    }
   ],
   "source": [
    "a = np.random.random( (10,2) )\n",
    "a"
   ]
  },
  {
   "cell_type": "code",
   "execution_count": 11,
   "metadata": {},
   "outputs": [
    {
     "output_type": "execute_result",
     "data": {
      "text/plain": [
       "(0, 0, 12)"
      ]
     },
     "metadata": {},
     "execution_count": 11
    }
   ],
   "source": [
    "slice(20000,100000000,12).indices(0)"
   ]
  },
  {
   "cell_type": "code",
   "execution_count": 7,
   "metadata": {},
   "outputs": [
    {
     "output_type": "execute_result",
     "data": {
      "text/plain": [
       "(1, 2, 2)"
      ]
     },
     "metadata": {},
     "execution_count": 7
    }
   ],
   "source": [
    "tuple([1,2,2])"
   ]
  },
  {
   "cell_type": "code",
   "execution_count": 11,
   "metadata": {},
   "outputs": [
    {
     "output_type": "execute_result",
     "data": {
      "text/plain": [
       "0.9997482711915926"
      ]
     },
     "metadata": {},
     "execution_count": 11
    }
   ],
   "source": [
    "np.max(np.hanning(100))"
   ]
  },
  {
   "cell_type": "code",
   "execution_count": 7,
   "metadata": {},
   "outputs": [
    {
     "output_type": "execute_result",
     "data": {
      "text/plain": [
       "array([[0.70926265, 0.69201919],\n",
       "       [0.46593093, 0.1536547 ],\n",
       "       [0.30445555, 0.16104922],\n",
       "       [0.09936014, 0.94922884],\n",
       "       [0.49471705, 0.02423938],\n",
       "       [0.94878234, 0.08077731],\n",
       "       [0.73686944, 0.43971285],\n",
       "       [0.70543846, 0.15783184],\n",
       "       [0.53546548, 0.76062378],\n",
       "       [0.4119572 , 0.14252226]])"
      ]
     },
     "metadata": {},
     "execution_count": 7
    }
   ],
   "source": [
    "a[...]"
   ]
  }
 ]
}