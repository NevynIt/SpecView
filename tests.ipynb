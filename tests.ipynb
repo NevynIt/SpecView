{
 "metadata": {
  "language_info": {
   "codemirror_mode": {
    "name": "ipython",
    "version": 3
   },
   "file_extension": ".py",
   "mimetype": "text/x-python",
   "name": "python",
   "nbconvert_exporter": "python",
   "pygments_lexer": "ipython3",
   "version": "3.8.3"
  },
  "orig_nbformat": 2,
  "kernelspec": {
   "name": "python383jvsc74a57bd075669339d2c57fc3e6685f74fc900ac52fb0add0e5306449057a21a50595ad78",
   "display_name": "Python 3.8.3 32-bit ('SV': virtualenvwrapper)"
  },
  "metadata": {
   "interpreter": {
    "hash": "75669339d2c57fc3e6685f74fc900ac52fb0add0e5306449057a21a50595ad78"
   }
  }
 },
 "nbformat": 4,
 "nbformat_minor": 2,
 "cells": [
  {
   "cell_type": "code",
   "execution_count": 1,
   "metadata": {},
   "outputs": [],
   "source": [
    "import numpy as np"
   ]
  },
  {
   "cell_type": "code",
   "execution_count": 2,
   "metadata": {},
   "outputs": [
    {
     "output_type": "execute_result",
     "data": {
      "text/plain": [
       "array([[0.9626442 , 0.4630725 ],\n",
       "       [0.90833447, 0.51028687],\n",
       "       [0.27193952, 0.31129465],\n",
       "       [0.35580271, 0.20953345],\n",
       "       [0.8581419 , 0.2865925 ],\n",
       "       [0.70963634, 0.2485786 ],\n",
       "       [0.26109145, 0.26672364],\n",
       "       [0.40661446, 0.80625638],\n",
       "       [0.61548015, 0.44171186],\n",
       "       [0.34956208, 0.75182805]])"
      ]
     },
     "metadata": {},
     "execution_count": 2
    }
   ],
   "source": [
    "a = np.random.random( (10,2) )\n",
    "a"
   ]
  },
  {
   "cell_type": "code",
   "execution_count": 11,
   "metadata": {},
   "outputs": [
    {
     "output_type": "execute_result",
     "data": {
      "text/plain": [
       "(0, 0, 12)"
      ]
     },
     "metadata": {},
     "execution_count": 11
    }
   ],
   "source": [
    "slice(20000,100000000,12).indices(0)"
   ]
  },
  {
   "cell_type": "code",
   "execution_count": 7,
   "metadata": {},
   "outputs": [
    {
     "output_type": "execute_result",
     "data": {
      "text/plain": [
       "(1, 2, 2)"
      ]
     },
     "metadata": {},
     "execution_count": 7
    }
   ],
   "source": [
    "tuple([1,2,2])"
   ]
  }
 ]
}